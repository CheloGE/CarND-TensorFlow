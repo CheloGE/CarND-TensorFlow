{
 "cells": [
  {
   "cell_type": "markdown",
   "metadata": {},
   "source": [
    "# This notebook aims to code the softmax function as follows:\n",
    "\n",
    "![](figures/figure1.jpg)\n",
    "\n",
    "* Logit is a function that maps probabilities [0, 1] to [-inf, +inf].\n",
    "\n",
    "* Softmax is a function that maps [-inf, +inf] to [0, 1] similar as Sigmoid. But Softmax also normalizes the sum of the values(output vector) to be 1.\n",
    "\n",
    "* In ML the term logit:\n",
    "        Refers to the vector of raw (non-normalized) predictions that a classification model generates, which is ordinarily then passed to a normalization function. If the model is solving a multi-class classification problem, logits typically become an input to the softmax function. The softmax function then generates a vector of (normalized) probabilities with one value for each possible class.\n"
   ]
  },
  {
   "cell_type": "code",
   "execution_count": 4,
   "metadata": {},
   "outputs": [],
   "source": [
    "import numpy as np"
   ]
  },
  {
   "cell_type": "code",
   "execution_count": 6,
   "metadata": {},
   "outputs": [],
   "source": [
    "def softmax(x):\n",
    "    \"\"\"\n",
    "        Compute softmax values for each sets of scores in x.\n",
    "        @Return results in same shape as x\n",
    "    \n",
    "    \"\"\"\n",
    "    return np.exp(x)/np.sum(np.exp(x), axis=0)"
   ]
  },
  {
   "cell_type": "code",
   "execution_count": 7,
   "metadata": {},
   "outputs": [
    {
     "name": "stdout",
     "output_type": "stream",
     "text": [
      "[0.8360188  0.11314284 0.05083836]\n"
     ]
    }
   ],
   "source": [
    "# test 1\n",
    "logits = [3.0, 1.0, 0.2]\n",
    "print(softmax(logits))"
   ]
  },
  {
   "cell_type": "code",
   "execution_count": 9,
   "metadata": {},
   "outputs": [
    {
     "name": "stdout",
     "output_type": "stream",
     "text": [
      "[0.09003057 0.24472847 0.66524096]\n"
     ]
    }
   ],
   "source": [
    "# test 2\n",
    "logits = [1.0, 2.0, 3.0]\n",
    "print(softmax(logits))"
   ]
  },
  {
   "cell_type": "code",
   "execution_count": 10,
   "metadata": {},
   "outputs": [
    {
     "name": "stdout",
     "output_type": "stream",
     "text": [
      "[[0.09003057 0.00242826 0.01587624 0.33333333]\n",
      " [0.24472847 0.01794253 0.11731043 0.33333333]\n",
      " [0.66524096 0.97962921 0.86681333 0.33333333]]\n"
     ]
    }
   ],
   "source": [
    "# test 3\n",
    "logits = np.array([\n",
    "    [1, 2, 3, 6],\n",
    "    [2, 4, 5, 6],\n",
    "    [3, 8, 7, 6]])\n",
    "print(softmax(logits))"
   ]
  },
  {
   "cell_type": "markdown",
   "metadata": {},
   "source": [
    "# Now let's do it with tensorflow"
   ]
  },
  {
   "cell_type": "code",
   "execution_count": 12,
   "metadata": {},
   "outputs": [],
   "source": [
    "import tensorflow as tf"
   ]
  },
  {
   "cell_type": "code",
   "execution_count": 31,
   "metadata": {},
   "outputs": [
    {
     "name": "stdout",
     "output_type": "stream",
     "text": [
      " dataset 1 (test 2): [0.09003057 0.24472848 0.66524094]\n",
      " dataset 2 (test 3): \n",
      "[[0.09003057 0.00242826 0.01587624 0.33333334]\n",
      " [0.24472848 0.01794253 0.11731043 0.33333334]\n",
      " [0.66524094 0.9796292  0.86681336 0.33333334]]\n"
     ]
    }
   ],
   "source": [
    "logit_data1 = [1.0, 2.0, 3.0]\n",
    "logit_data2 = np.array([\n",
    "    [1, 2, 3, 6],\n",
    "    [2, 4, 5, 6],\n",
    "    [3, 8, 7, 6]]).T\n",
    "logits = tf.placeholder(tf.float32)\n",
    "softmax_tensor = tf.nn.softmax(logits)\n",
    "with tf.Session() as sess:\n",
    "    print(f\" dataset 1 (test 2): {sess.run(softmax_tensor, feed_dict = {logits:logit_data})}\")\n",
    "    print(f\" dataset 2 (test 3): \\n{np.array(sess.run(softmax_tensor, feed_dict = {logits:logit_data2})).T}\")"
   ]
  },
  {
   "cell_type": "code",
   "execution_count": null,
   "metadata": {},
   "outputs": [],
   "source": []
  }
 ],
 "metadata": {
  "kernelspec": {
   "display_name": "Python 3",
   "language": "python",
   "name": "python3"
  },
  "language_info": {
   "codemirror_mode": {
    "name": "ipython",
    "version": 3
   },
   "file_extension": ".py",
   "mimetype": "text/x-python",
   "name": "python",
   "nbconvert_exporter": "python",
   "pygments_lexer": "ipython3",
   "version": "3.6.10"
  }
 },
 "nbformat": 4,
 "nbformat_minor": 4
}
