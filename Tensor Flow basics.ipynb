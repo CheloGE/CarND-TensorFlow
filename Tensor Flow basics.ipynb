{
 "cells": [
  {
   "cell_type": "markdown",
   "metadata": {},
   "source": [
    "# The aim of this notebook is to practice the basics of TensorFlow\n"
   ]
  },
  {
   "cell_type": "code",
   "execution_count": 8,
   "metadata": {},
   "outputs": [],
   "source": [
    "# importing tensorflow\n",
    "import tensorflow as tf"
   ]
  },
  {
   "cell_type": "markdown",
   "metadata": {},
   "source": [
    "## Hello world code\n",
    "\n",
    "It uses the following concepts:\n",
    "* constant tensor\n",
    "* Session object"
   ]
  },
  {
   "cell_type": "code",
   "execution_count": 2,
   "metadata": {},
   "outputs": [
    {
     "name": "stdout",
     "output_type": "stream",
     "text": [
      "Hello world\n"
     ]
    }
   ],
   "source": [
    "# Hello world \n",
    "x = tf.constant('Hello world')\n",
    "with tf.Session() as sess: # the with statement creates an instance of object Session as sess which is no longer\n",
    "                            # tracked by the OS after it ends\n",
    "    output = sess.run(x) # Returns a bstring data type\n",
    "    print(output.decode()) # decode() converts bstring into a string, by default the encoding is utf-8"
   ]
  },
  {
   "cell_type": "markdown",
   "metadata": {},
   "source": [
    "**Note:** When we run a session we are basically creating a graph. Please refer to the illustration below to understand:\n",
    "\n",
    "![](figures/graph.jpg)\n"
   ]
  },
  {
   "cell_type": "markdown",
   "metadata": {},
   "source": [
    "## Feed data into the tensor in running time.\n",
    "Concepts:\n",
    "* placeholder tensor. A tensor that is fed during running time. It remains constant throughout the session, though. \n",
    "* feed_dict parameter of sess.run()"
   ]
  },
  {
   "cell_type": "code",
   "execution_count": 3,
   "metadata": {},
   "outputs": [
    {
     "name": "stdout",
     "output_type": "stream",
     "text": [
      "123\n"
     ]
    }
   ],
   "source": [
    "# 1st example\n",
    "x = tf.placeholder(tf.int16) # creates a place holder tensor to be pupulated later, we must define the datatype of it\n",
    "with tf.Session() as sess:\n",
    "    output = sess.run(x, feed_dict={x:123})\n",
    "    print(output)"
   ]
  },
  {
   "cell_type": "code",
   "execution_count": 4,
   "metadata": {},
   "outputs": [
    {
     "name": "stdout",
     "output_type": "stream",
     "text": [
      "number:  123 string:  test\n"
     ]
    }
   ],
   "source": [
    "# 2nd example\n",
    "x = tf.placeholder(tf.int16)\n",
    "y = tf.placeholder(tf.string)\n",
    "\n",
    "with tf.Session() as sess:\n",
    "    output_int, output_string = sess.run((x,y), feed_dict={x:123, y:\"test\"})\n",
    "    print(\"number: \",output_int,\"string: \", output_string)"
   ]
  },
  {
   "cell_type": "markdown",
   "metadata": {},
   "source": [
    "## Arithmetic operations\n",
    "tensors used:\n",
    "* tf.add()\n",
    "* tf.subtract()\n",
    "* tf.multiply()\n",
    "* tf.div()"
   ]
  },
  {
   "cell_type": "code",
   "execution_count": 5,
   "metadata": {},
   "outputs": [
    {
     "name": "stdout",
     "output_type": "stream",
     "text": [
      "7\n",
      "3\n",
      "15\n",
      "2.5\n"
     ]
    }
   ],
   "source": [
    "addition = tf.add(2,5)\n",
    "subtraction = tf.subtract(5,2)\n",
    "multiplication = tf.multiply(3,5)\n",
    "division = tf.div(5.0,2)\n",
    "\n",
    "with tf.Session() as sess:\n",
    "    # running one node for each operation\n",
    "    print(sess.run(addition))\n",
    "    print(sess.run(subtraction))\n",
    "    print(sess.run(multiplication))\n",
    "    print(sess.run(division))"
   ]
  },
  {
   "cell_type": "markdown",
   "metadata": {},
   "source": [
    "# Variable tensor\n",
    "\n",
    "If we want a tensor that is being modified during runtime of session we need to call:\n",
    "* tf.variable()\n",
    "* tf.assign()\n",
    "* tf.initialize_all_variables()"
   ]
  },
  {
   "cell_type": "code",
   "execution_count": 6,
   "metadata": {},
   "outputs": [
    {
     "name": "stdout",
     "output_type": "stream",
     "text": [
      "1\n",
      "2\n",
      "3\n"
     ]
    }
   ],
   "source": [
    "tensor_counter = tf.Variable(0, name=\"counter\")\n",
    "tensor_add = tf.add(tensor_counter, 1)\n",
    "tensor_update = tf.assign(tensor_counter, tensor_add)\n",
    "init = tf.global_variables_initializer()\n",
    "with tf.Session() as sess:\n",
    "    sess.run(init)\n",
    "    for _ in range(3):\n",
    "        print(sess.run(tensor_update))"
   ]
  },
  {
   "cell_type": "code",
   "execution_count": null,
   "metadata": {},
   "outputs": [],
   "source": []
  }
 ],
 "metadata": {
  "kernelspec": {
   "display_name": "Python 3",
   "language": "python",
   "name": "python3"
  },
  "language_info": {
   "codemirror_mode": {
    "name": "ipython",
    "version": 3
   },
   "file_extension": ".py",
   "mimetype": "text/x-python",
   "name": "python",
   "nbconvert_exporter": "python",
   "pygments_lexer": "ipython3",
   "version": "3.6.10"
  }
 },
 "nbformat": 4,
 "nbformat_minor": 2
}
